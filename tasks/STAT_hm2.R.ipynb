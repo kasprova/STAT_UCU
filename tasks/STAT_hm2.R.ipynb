{
 "cells": [
  {
   "cell_type": "markdown",
   "metadata": {},
   "source": [
    "# Elements of Statistics, Econometrics and Time Series Analysis\n",
    "## Home assignment 2\n",
    "### Anastasiia Kasprova"
   ]
  },
  {
   "cell_type": "markdown",
   "metadata": {},
   "source": [
    "## Problem 3: Regression analysis - artificial data \n",
    "The objective of this problem is to assess the sensitivity of the linear regression to various\n",
    "violations in the assumptions via simulations."
   ]
  },
  {
   "cell_type": "markdown",
   "metadata": {},
   "source": [
    "##### 1. First, we simulate the explanatory variables. To impose a specific type of dependence among the regressors, we simulate the $i$-th vector of observations $x_{i}$ = ($x_{1i}$..., $x_{Ji}$)' from a multivariate normal distribution with mean vector (10, 100, 1000) and the correlation matrix given by a $J×J$-Toelitz matrix with parameter $ρ$. Set $J = 3$, $ρ = 0.3$. The sample size equals $n = 200$."
   ]
  },
  {
   "cell_type": "code",
   "execution_count": 305,
   "metadata": {
    "collapsed": false
   },
   "outputs": [
    {
     "data": {
      "text/html": [
       "<table>\n",
       "<tbody>\n",
       "\t<tr><td> 9.084444</td><td> 97.92909</td><td> 999.0472</td></tr>\n",
       "\t<tr><td>10.399214</td><td> 98.08490</td><td> 998.4733</td></tr>\n",
       "\t<tr><td>11.444927</td><td>100.69418</td><td> 999.3561</td></tr>\n",
       "\t<tr><td>10.336983</td><td>100.27738</td><td> 998.6696</td></tr>\n",
       "\t<tr><td> 8.326870</td><td> 98.63270</td><td> 999.5905</td></tr>\n",
       "\t<tr><td>10.022283</td><td> 99.25713</td><td>1000.3435</td></tr>\n",
       "</tbody>\n",
       "</table>\n"
      ],
      "text/latex": [
       "\\begin{tabular}{lll}\n",
       "\t  9.084444 &  97.92909 &  999.0472\\\\\n",
       "\t 10.399214 &  98.08490 &  998.4733\\\\\n",
       "\t 11.444927 & 100.69418 &  999.3561\\\\\n",
       "\t 10.336983 & 100.27738 &  998.6696\\\\\n",
       "\t  8.326870 &  98.63270 &  999.5905\\\\\n",
       "\t 10.022283 &  99.25713 & 1000.3435\\\\\n",
       "\\end{tabular}\n"
      ],
      "text/markdown": [
       "\n",
       "|  9.084444 |  97.92909 |  999.0472 | \n",
       "| 10.399214 |  98.08490 |  998.4733 | \n",
       "| 11.444927 | 100.69418 |  999.3561 | \n",
       "| 10.336983 | 100.27738 |  998.6696 | \n",
       "|  8.326870 |  98.63270 |  999.5905 | \n",
       "| 10.022283 |  99.25713 | 1000.3435 | \n",
       "\n",
       "\n"
      ],
      "text/plain": [
       "     [,1]      [,2]      [,3]     \n",
       "[1,]  9.084444  97.92909  999.0472\n",
       "[2,] 10.399214  98.08490  998.4733\n",
       "[3,] 11.444927 100.69418  999.3561\n",
       "[4,] 10.336983 100.27738  998.6696\n",
       "[5,]  8.326870  98.63270  999.5905\n",
       "[6,] 10.022283  99.25713 1000.3435"
      ]
     },
     "metadata": {},
     "output_type": "display_data"
    }
   ],
   "source": [
    "#install.packages(\"mvrnorm\")\n",
    "require(MASS)\n",
    "set.seed(888) #set reproducible sample generation\n",
    "X <- mvrnorm(n=200,mu=c(10,100,1000),Sigma=toeplitz(0.3^(0:2)))\n",
    "head(X)"
   ]
  },
  {
   "cell_type": "markdown",
   "metadata": {},
   "source": [
    "###### 2. Generate a sample of residuals $ε_{i}$ $i$ = 1,...,n from the normal distribution with zero mean and variance $σ^{2}$=1. Compute the pseudo-dependent variables $$ y_{i}=β_{0}+β_{1}x_{1i}+···+β_{J}x_{Ji}+ε_{i},$$ by setting the parameters for simplicity to $β_{0} = 1, β_{1} = 0.1, β_{2} = 0.01$ and $β_{3} = 0.001.$ Now you have **Y** and **X**.\n"
   ]
  },
  {
   "cell_type": "code",
   "execution_count": 306,
   "metadata": {
    "collapsed": false
   },
   "outputs": [],
   "source": [
    "B <- matrix(c(1,0.1,0.01,0.001)) #vector of betas\n",
    "X_ext <- cbind(rep(1,n=200),X) #adding x0=1 to X\n",
    "E <- rnorm(n=200, mean=0, sd=1) #a sample of residuals ε\n",
    "Y <- X_ext%*%B + E "
   ]
  },
  {
   "cell_type": "code",
   "execution_count": 307,
   "metadata": {
    "collapsed": false
   },
   "outputs": [
    {
     "data": {
      "text/html": [
       "<table>\n",
       "<thead><tr><th scope=col>X1</th><th scope=col>X2</th><th scope=col>X3</th><th scope=col>Y</th></tr></thead>\n",
       "<tbody>\n",
       "\t<tr><td> 9.084444</td><td> 97.92909</td><td> 999.0472</td><td>4.778001 </td></tr>\n",
       "\t<tr><td>10.399214</td><td> 98.08490</td><td> 998.4733</td><td>4.497513 </td></tr>\n",
       "\t<tr><td>11.444927</td><td>100.69418</td><td> 999.3561</td><td>4.220939 </td></tr>\n",
       "\t<tr><td>10.336983</td><td>100.27738</td><td> 998.6696</td><td>4.146566 </td></tr>\n",
       "\t<tr><td> 8.326870</td><td> 98.63270</td><td> 999.5905</td><td>4.112899 </td></tr>\n",
       "\t<tr><td>10.022283</td><td> 99.25713</td><td>1000.3435</td><td>3.129472 </td></tr>\n",
       "</tbody>\n",
       "</table>\n"
      ],
      "text/latex": [
       "\\begin{tabular}{r|llll}\n",
       " X1 & X2 & X3 & Y\\\\\n",
       "\\hline\n",
       "\t  9.084444 &  97.92909 &  999.0472 & 4.778001 \\\\\n",
       "\t 10.399214 &  98.08490 &  998.4733 & 4.497513 \\\\\n",
       "\t 11.444927 & 100.69418 &  999.3561 & 4.220939 \\\\\n",
       "\t 10.336983 & 100.27738 &  998.6696 & 4.146566 \\\\\n",
       "\t  8.326870 &  98.63270 &  999.5905 & 4.112899 \\\\\n",
       "\t 10.022283 &  99.25713 & 1000.3435 & 3.129472 \\\\\n",
       "\\end{tabular}\n"
      ],
      "text/markdown": [
       "\n",
       "X1 | X2 | X3 | Y | \n",
       "|---|---|---|---|---|---|\n",
       "|  9.084444 |  97.92909 |  999.0472 | 4.778001  | \n",
       "| 10.399214 |  98.08490 |  998.4733 | 4.497513  | \n",
       "| 11.444927 | 100.69418 |  999.3561 | 4.220939  | \n",
       "| 10.336983 | 100.27738 |  998.6696 | 4.146566  | \n",
       "|  8.326870 |  98.63270 |  999.5905 | 4.112899  | \n",
       "| 10.022283 |  99.25713 | 1000.3435 | 3.129472  | \n",
       "\n",
       "\n"
      ],
      "text/plain": [
       "  X1        X2        X3        Y       \n",
       "1  9.084444  97.92909  999.0472 4.778001\n",
       "2 10.399214  98.08490  998.4733 4.497513\n",
       "3 11.444927 100.69418  999.3561 4.220939\n",
       "4 10.336983 100.27738  998.6696 4.146566\n",
       "5  8.326870  98.63270  999.5905 4.112899\n",
       "6 10.022283  99.25713 1000.3435 3.129472"
      ]
     },
     "metadata": {},
     "output_type": "display_data"
    }
   ],
   "source": [
    "head(bind_cols(data.frame(X), data.frame(Y)))"
   ]
  },
  {
   "cell_type": "code",
   "execution_count": 308,
   "metadata": {
    "collapsed": false
   },
   "outputs": [
    {
     "data": {
      "text/html": [
       "<ol class=list-inline>\n",
       "\t<li>200</li>\n",
       "\t<li>3</li>\n",
       "</ol>\n"
      ],
      "text/latex": [
       "\\begin{enumerate*}\n",
       "\\item 200\n",
       "\\item 3\n",
       "\\end{enumerate*}\n"
      ],
      "text/markdown": [
       "1. 200\n",
       "2. 3\n",
       "\n",
       "\n"
      ],
      "text/plain": [
       "[1] 200   3"
      ]
     },
     "metadata": {},
     "output_type": "display_data"
    }
   ],
   "source": [
    "dim(X)"
   ]
  },
  {
   "cell_type": "markdown",
   "metadata": {},
   "source": [
    "##### 3. Estimate the linear regression model using OLS (ordinary least squares). Compare the parameters to the true values. Check their significance and assess the goodness of the model.\n"
   ]
  },
  {
   "cell_type": "code",
   "execution_count": 309,
   "metadata": {
    "collapsed": false
   },
   "outputs": [
    {
     "data": {
      "text/plain": [
       "\n",
       "Call:\n",
       "lm(formula = Y ~ ., data = bind_cols(data.frame(X), data.frame(Y)))\n",
       "\n",
       "Residuals:\n",
       "     Min       1Q   Median       3Q      Max \n",
       "-2.33091 -0.62558 -0.04755  0.67432  2.67792 \n",
       "\n",
       "Coefficients:\n",
       "             Estimate Std. Error t value Pr(>|t|)  \n",
       "(Intercept) 182.36702   76.17305   2.394   0.0176 *\n",
       "X1            0.03179    0.06900   0.461   0.6456  \n",
       "X2            0.02099    0.07682   0.273   0.7849  \n",
       "X3           -0.18082    0.07921  -2.283   0.0235 *\n",
       "---\n",
       "Signif. codes:  0 '***' 0.001 '**' 0.01 '*' 0.05 '.' 0.1 ' ' 1\n",
       "\n",
       "Residual standard error: 0.9211 on 196 degrees of freedom\n",
       "Multiple R-squared:  0.03027,\tAdjusted R-squared:  0.01543 \n",
       "F-statistic:  2.04 on 3 and 196 DF,  p-value: 0.1097\n"
      ]
     },
     "metadata": {},
     "output_type": "display_data"
    }
   ],
   "source": [
    "#slides p.217\n",
    "#require(\"dplyr\")\n",
    "model <- lm(Y~., data = bind_cols(data.frame(X), data.frame(Y)))\n",
    "#plot(model, which=1:4)\n",
    "#coef(model)\n",
    "summary(model)"
   ]
  },
  {
   "cell_type": "markdown",
   "metadata": {},
   "source": [
    "Conclusions. \n",
    "Our true parameters are b1=0.1, b2=0.01 and b3=0.001. Based on summary information our predicted parameters b1' is in range [-0.03721;0.10079], b2' is in range [-0.05583; 0.09781], b3' is in range [-0.26003;-0.10161]. Thus the first two parameters belong to the confident intervals, however the third one is out of range as well as intersept.\n",
    "Adjusted R-squared value is telling us that the model is fitting the actual data not so well.  \n"
   ]
  },
  {
   "cell_type": "markdown",
   "metadata": {},
   "source": [
    "##### 4. Next we check the sensitivity of the regression model to the setup parameters. Increase the sample size n, say to 2000, and compare the results (the parameters and their variances) to the true values"
   ]
  },
  {
   "cell_type": "code",
   "execution_count": 294,
   "metadata": {
    "collapsed": false
   },
   "outputs": [
    {
     "data": {
      "text/plain": [
       "\n",
       "Call:\n",
       "lm(formula = Y2 ~ ., data = bind_cols(data.frame(X2), data.frame(Y2)))\n",
       "\n",
       "Residuals:\n",
       "    Min      1Q  Median      3Q     Max \n",
       "-3.7447 -0.6673 -0.0328  0.6563  3.6082 \n",
       "\n",
       "Coefficients:\n",
       "              Estimate Std. Error t value Pr(>|t|)    \n",
       "(Intercept) -23.509028  22.863515  -1.028    0.304    \n",
       "X1            0.093132   0.023665   3.935 8.59e-05 ***\n",
       "X2           -0.008093   0.024794  -0.326    0.744    \n",
       "X3            0.027401   0.023418   1.170    0.242    \n",
       "---\n",
       "Signif. codes:  0 '***' 0.001 '**' 0.01 '*' 0.05 '.' 0.1 ' ' 1\n",
       "\n",
       "Residual standard error: 1.006 on 1996 degrees of freedom\n",
       "Multiple R-squared:  0.008993,\tAdjusted R-squared:  0.007504 \n",
       "F-statistic: 6.038 on 3 and 1996 DF,  p-value: 0.0004324\n"
      ]
     },
     "metadata": {},
     "output_type": "display_data"
    }
   ],
   "source": [
    "set.seed(888) #set reproducible sample generation\n",
    "X2 <- mvrnorm(n=2000,mu=c(10,100,1000),Sigma=toeplitz(0.3^(0:2)))\n",
    "B <- matrix(c(1,0.1,0.01,0.001)) #vector of betas\n",
    "X_ext2 <- cbind(rep(1,n=2000),X2) #adding x0=1 to X\n",
    "E2 <- rnorm(n=2000, mean=0, sd=1) #a sample of residuals ε\n",
    "Y2 <- X_ext2%*%B + E2 \n",
    "model2 <- lm(Y2~., data = bind_cols(data.frame(X2), data.frame(Y2)))\n",
    "#coef(model2)\n",
    "summary(model2)"
   ]
  },
  {
   "cell_type": "markdown",
   "metadata": {},
   "source": [
    "Conclusion.\n",
    "All true value parameters belong to confident intervals of their estimated values despite the fact that standart errors are decreased in about 3 times.\n",
    "True values: 1,0.1,0.01 and 0.001\n",
    "Estimated values: -24, 0.1,-0.01 and 0.027 (brought to the same order)\n",
    "Adjusted R-squared parameter is telling us that the model is not good too:D"
   ]
  },
  {
   "cell_type": "markdown",
   "metadata": {},
   "source": [
    "##### 5. By increasing ρ you render multicollinearity in the data, i.e. the regressors become more correlated and the model cannot identify the individual effects. Set ρ = 0.8 with n = 200. Repeat steps 2 and 3. Compare the results and discuss what do you observe."
   ]
  },
  {
   "cell_type": "code",
   "execution_count": 301,
   "metadata": {
    "collapsed": false
   },
   "outputs": [
    {
     "data": {
      "text/plain": [
       "\n",
       "Call:\n",
       "lm(formula = Y ~ ., data = bind_cols(data.frame(X), data.frame(Y)))\n",
       "\n",
       "Residuals:\n",
       "     Min       1Q   Median       3Q      Max \n",
       "-2.33091 -0.62558 -0.04755  0.67432  2.67792 \n",
       "\n",
       "Coefficients:\n",
       "             Estimate Std. Error t value Pr(>|t|)  \n",
       "(Intercept) 182.36702   76.17305   2.394   0.0176 *\n",
       "X1            0.03179    0.06900   0.461   0.6456  \n",
       "X2            0.02099    0.07682   0.273   0.7849  \n",
       "X3           -0.18082    0.07921  -2.283   0.0235 *\n",
       "---\n",
       "Signif. codes:  0 '***' 0.001 '**' 0.01 '*' 0.05 '.' 0.1 ' ' 1\n",
       "\n",
       "Residual standard error: 0.9211 on 196 degrees of freedom\n",
       "Multiple R-squared:  0.03027,\tAdjusted R-squared:  0.01543 \n",
       "F-statistic:  2.04 on 3 and 196 DF,  p-value: 0.1097\n"
      ]
     },
     "metadata": {},
     "output_type": "display_data"
    },
    {
     "data": {
      "text/plain": [
       "\n",
       "Call:\n",
       "lm(formula = Y3 ~ ., data = bind_cols(data.frame(X3), data.frame(Y3)))\n",
       "\n",
       "Residuals:\n",
       "     Min       1Q   Median       3Q      Max \n",
       "-2.33091 -0.62558 -0.04755  0.67432  2.67792 \n",
       "\n",
       "Coefficients:\n",
       "            Estimate Std. Error t value Pr(>|t|)  \n",
       "(Intercept) 122.2357   112.7599   1.084   0.2797  \n",
       "X1            0.1324     0.1084   1.222   0.2233  \n",
       "X2            0.2762     0.1622   1.703   0.0901 .\n",
       "X3           -0.1472     0.1239  -1.188   0.2363  \n",
       "---\n",
       "Signif. codes:  0 '***' 0.001 '**' 0.01 '*' 0.05 '.' 0.1 ' ' 1\n",
       "\n",
       "Residual standard error: 0.9211 on 196 degrees of freedom\n",
       "Multiple R-squared:  0.0836,\tAdjusted R-squared:  0.06957 \n",
       "F-statistic:  5.96 on 3 and 196 DF,  p-value: 0.0006572\n"
      ]
     },
     "metadata": {},
     "output_type": "display_data"
    }
   ],
   "source": [
    "set.seed(888) #set reproducible sample generation\n",
    "X3 <- mvrnorm(n=200,mu=c(10,100,1000),Sigma=toeplitz(0.8^(0:2)))\n",
    "B <- matrix(c(1,0.1,0.01,0.001)) #vector of betas\n",
    "X_ext3 <- cbind(rep(1,n=200),X3) #adding x0=1 to X\n",
    "E3 <- rnorm(n=200, mean=0, sd=1) #a sample of residuals ε\n",
    "Y3 <- X_ext3%*%B + E3 \n",
    "model3 <- lm(Y3 ~ ., data = bind_cols(data.frame(X3), data.frame(Y3)))\n",
    "summary(model)\n",
    "summary(model3)"
   ]
  },
  {
   "cell_type": "markdown",
   "metadata": {},
   "source": [
    "Conclusion. By increasing $\\rho$ we observe the increase of standart error thus the confident interval becomes wider as well as adjusted R-squared parameter becomes bigger. Also t-values are converging to some value which is far away from 0.05."
   ]
  },
  {
   "cell_type": "markdown",
   "metadata": {},
   "source": [
    "##### 6. Compute the confidence intervals for the estimated parameters for small/large sample sizes and for high/low values of ρ. Discuss the results and provide short theoretical justification for the evidence you found."
   ]
  },
  {
   "cell_type": "code",
   "execution_count": 281,
   "metadata": {
    "collapsed": false
   },
   "outputs": [
    {
     "data": {
      "text/html": [
       "<table>\n",
       "<thead><tr><th></th><th scope=col>2.5 %</th><th scope=col>97.5 %</th></tr></thead>\n",
       "<tbody>\n",
       "\t<tr><th scope=row>(Intercept)</th><td>32.1430059  </td><td>332.59104279</td></tr>\n",
       "\t<tr><th scope=row>X1</th><td>-0.1043005  </td><td>  0.16787188</td></tr>\n",
       "\t<tr><th scope=row>X2</th><td>-0.1305015  </td><td>  0.17248707</td></tr>\n",
       "\t<tr><th scope=row>X3</th><td>-0.3370427  </td><td> -0.02460115</td></tr>\n",
       "</tbody>\n",
       "</table>\n"
      ],
      "text/latex": [
       "\\begin{tabular}{r|ll}\n",
       "  & 2.5 \\% & 97.5 \\%\\\\\n",
       "\\hline\n",
       "\t(Intercept) & 32.1430059   & 332.59104279\\\\\n",
       "\tX1 & -0.1043005   &   0.16787188\\\\\n",
       "\tX2 & -0.1305015   &   0.17248707\\\\\n",
       "\tX3 & -0.3370427   &  -0.02460115\\\\\n",
       "\\end{tabular}\n"
      ],
      "text/markdown": [
       "\n",
       "| <!--/--> | 2.5 % | 97.5 % | \n",
       "|---|---|---|---|\n",
       "| (Intercept) | 32.1430059   | 332.59104279 | \n",
       "| X1 | -0.1043005   |   0.16787188 | \n",
       "| X2 | -0.1305015   |   0.17248707 | \n",
       "| X3 | -0.3370427   |  -0.02460115 | \n",
       "\n",
       "\n"
      ],
      "text/plain": [
       "            2.5 %      97.5 %      \n",
       "(Intercept) 32.1430059 332.59104279\n",
       "X1          -0.1043005   0.16787188\n",
       "X2          -0.1305015   0.17248707\n",
       "X3          -0.3370427  -0.02460115"
      ]
     },
     "metadata": {},
     "output_type": "display_data"
    }
   ],
   "source": [
    "confint(model)"
   ]
  },
  {
   "cell_type": "code",
   "execution_count": 282,
   "metadata": {
    "collapsed": false
   },
   "outputs": [
    {
     "data": {
      "text/html": [
       "<table>\n",
       "<thead><tr><th></th><th scope=col>2.5 %</th><th scope=col>97.5 %</th></tr></thead>\n",
       "<tbody>\n",
       "\t<tr><th scope=row>(Intercept)</th><td>-68.34788349</td><td>21.32982657 </td></tr>\n",
       "\t<tr><th scope=row>X1</th><td>  0.04672002</td><td> 0.13954311 </td></tr>\n",
       "\t<tr><th scope=row>X2</th><td> -0.05671795</td><td> 0.04053158 </td></tr>\n",
       "\t<tr><th scope=row>X3</th><td> -0.01852434</td><td> 0.07332630 </td></tr>\n",
       "</tbody>\n",
       "</table>\n"
      ],
      "text/latex": [
       "\\begin{tabular}{r|ll}\n",
       "  & 2.5 \\% & 97.5 \\%\\\\\n",
       "\\hline\n",
       "\t(Intercept) & -68.34788349 & 21.32982657 \\\\\n",
       "\tX1 &   0.04672002 &  0.13954311 \\\\\n",
       "\tX2 &  -0.05671795 &  0.04053158 \\\\\n",
       "\tX3 &  -0.01852434 &  0.07332630 \\\\\n",
       "\\end{tabular}\n"
      ],
      "text/markdown": [
       "\n",
       "| <!--/--> | 2.5 % | 97.5 % | \n",
       "|---|---|---|---|\n",
       "| (Intercept) | -68.34788349 | 21.32982657  | \n",
       "| X1 |   0.04672002 |  0.13954311  | \n",
       "| X2 |  -0.05671795 |  0.04053158  | \n",
       "| X3 |  -0.01852434 |  0.07332630  | \n",
       "\n",
       "\n"
      ],
      "text/plain": [
       "            2.5 %        97.5 %     \n",
       "(Intercept) -68.34788349 21.32982657\n",
       "X1            0.04672002  0.13954311\n",
       "X2           -0.05671795  0.04053158\n",
       "X3           -0.01852434  0.07332630"
      ]
     },
     "metadata": {},
     "output_type": "display_data"
    }
   ],
   "source": [
    "confint(model2)"
   ]
  },
  {
   "cell_type": "code",
   "execution_count": 283,
   "metadata": {
    "collapsed": false
   },
   "outputs": [
    {
     "data": {
      "text/html": [
       "<table>\n",
       "<thead><tr><th></th><th scope=col>2.5 %</th><th scope=col>97.5 %</th></tr></thead>\n",
       "<tbody>\n",
       "\t<tr><th scope=row>(Intercept)</th><td>-100.14272145</td><td>344.61404183 </td></tr>\n",
       "\t<tr><th scope=row>X1</th><td>  -0.08132270</td><td>  0.34613044 </td></tr>\n",
       "\t<tr><th scope=row>X2</th><td>  -0.04360924</td><td>  0.59607392 </td></tr>\n",
       "\t<tr><th scope=row>X3</th><td>  -0.39164167</td><td>  0.09720027 </td></tr>\n",
       "</tbody>\n",
       "</table>\n"
      ],
      "text/latex": [
       "\\begin{tabular}{r|ll}\n",
       "  & 2.5 \\% & 97.5 \\%\\\\\n",
       "\\hline\n",
       "\t(Intercept) & -100.14272145 & 344.61404183 \\\\\n",
       "\tX1 &   -0.08132270 &   0.34613044 \\\\\n",
       "\tX2 &   -0.04360924 &   0.59607392 \\\\\n",
       "\tX3 &   -0.39164167 &   0.09720027 \\\\\n",
       "\\end{tabular}\n"
      ],
      "text/markdown": [
       "\n",
       "| <!--/--> | 2.5 % | 97.5 % | \n",
       "|---|---|---|---|\n",
       "| (Intercept) | -100.14272145 | 344.61404183  | \n",
       "| X1 |   -0.08132270 |   0.34613044  | \n",
       "| X2 |   -0.04360924 |   0.59607392  | \n",
       "| X3 |   -0.39164167 |   0.09720027  | \n",
       "\n",
       "\n"
      ],
      "text/plain": [
       "            2.5 %         97.5 %      \n",
       "(Intercept) -100.14272145 344.61404183\n",
       "X1            -0.08132270   0.34613044\n",
       "X2            -0.04360924   0.59607392\n",
       "X3            -0.39164167   0.09720027"
      ]
     },
     "metadata": {},
     "output_type": "display_data"
    }
   ],
   "source": [
    "confint(model3)"
   ]
  },
  {
   "cell_type": "markdown",
   "metadata": {},
   "source": [
    "Conclusion:\n",
    "Model1 - intercept and third parameter are out of confident intervals.\n",
    "Model2 and Model3 - all the true value parameters belong to confident intervals. Since the varience of values in model3 is higher (bigger standart error, wider confident intervals), model2 shows best fit (model with the biggest sample size). "
   ]
  },
  {
   "cell_type": "markdown",
   "metadata": {},
   "source": [
    "##### 7. How would you proceed if you wish to decide which of the explanatory variables is most important for y? Motivate your ideas."
   ]
  },
  {
   "cell_type": "markdown",
   "metadata": {},
   "source": [
    "Conclusion:\n",
    "I would proceed with t-test, which indicates if $X_{j}$ has a significant impact on $Y$. "
   ]
  },
  {
   "cell_type": "markdown",
   "metadata": {},
   "source": [
    "##### 8. Now assume that you forget the last variable X3 and estimate the model just with X1 and X2. What should happen from theoretical perspective? What can you infer from the estimation results if you set ρ = 0.1 and ρ = 0.8. What is the theoretical reasoning for this effect?"
   ]
  },
  {
   "cell_type": "code",
   "execution_count": 303,
   "metadata": {
    "collapsed": false
   },
   "outputs": [],
   "source": [
    "set.seed(888) #set reproducible sample generation\n",
    "X4 <- mvrnorm(n=200,mu=c(10,100,1000),Sigma=toeplitz(0.1^(0:2)))\n",
    "B <- matrix(c(1,0.1,0.01,0.001)) #vector of betas\n",
    "X_ext4 <- cbind(rep(1,n=200),X4) #adding x0=1 to X\n",
    "E4 <- rnorm(n=200, mean=0, sd=1) #a sample of residuals ε\n",
    "Y4 <- X_ext4%*%B + E4 \n",
    "model4 <- lm(Y4 ~ X1 + X2, data = bind_cols(data.frame(X4), data.frame(Y4)))\n"
   ]
  },
  {
   "cell_type": "code",
   "execution_count": 302,
   "metadata": {
    "collapsed": false
   },
   "outputs": [],
   "source": [
    "set.seed(888) #set reproducible sample generation\n",
    "X5 <- mvrnorm(n=200,mu=c(10,100,1000),Sigma=toeplitz(0.8^(0:2)))\n",
    "B <- matrix(c(1,0.1,0.01,0.001)) #vector of betas\n",
    "X_ext5 <- cbind(rep(1,n=200),X5) #adding x0=1 to X\n",
    "E5 <- rnorm(n=200, mean=0, sd=1) #a sample of residuals ε\n",
    "Y5 <- X_ext5%*%B + E5 \n",
    "model5 <- lm(Y5 ~ X1 + X2, data = bind_cols(data.frame(X5), data.frame(Y5)))"
   ]
  },
  {
   "cell_type": "code",
   "execution_count": 304,
   "metadata": {
    "collapsed": false
   },
   "outputs": [
    {
     "data": {
      "text/plain": [
       "\n",
       "Call:\n",
       "lm(formula = Y4 ~ X1 + X2, data = bind_cols(data.frame(X4), data.frame(Y4)))\n",
       "\n",
       "Residuals:\n",
       "     Min       1Q   Median       3Q      Max \n",
       "-2.33356 -0.64316 -0.05416  0.72583  2.61100 \n",
       "\n",
       "Coefficients:\n",
       "             Estimate Std. Error t value Pr(>|t|)   \n",
       "(Intercept) -16.10530    7.27446  -2.214  0.02798 * \n",
       "X1            0.06343    0.07090   0.895  0.37205   \n",
       "X2            0.19428    0.07441   2.611  0.00973 **\n",
       "---\n",
       "Signif. codes:  0 '***' 0.001 '**' 0.01 '*' 0.05 '.' 0.1 ' ' 1\n",
       "\n",
       "Residual standard error: 0.9219 on 197 degrees of freedom\n",
       "Multiple R-squared:  0.04694,\tAdjusted R-squared:  0.03726 \n",
       "F-statistic: 4.851 on 2 and 197 DF,  p-value: 0.008777\n"
      ]
     },
     "metadata": {},
     "output_type": "display_data"
    },
    {
     "data": {
      "text/plain": [
       "\n",
       "Call:\n",
       "lm(formula = Y5 ~ X1 + X2, data = bind_cols(data.frame(X5), data.frame(Y5)))\n",
       "\n",
       "Residuals:\n",
       "     Min       1Q   Median       3Q      Max \n",
       "-2.33464 -0.64467 -0.01279  0.64155  2.67742 \n",
       "\n",
       "Coefficients:\n",
       "            Estimate Std. Error t value Pr(>|t|)\n",
       "(Intercept) -11.1435    10.3546  -1.076    0.283\n",
       "X1            0.1433     0.1081   1.326    0.186\n",
       "X2            0.1368     0.1120   1.221    0.223\n",
       "\n",
       "Residual standard error: 0.9221 on 197 degrees of freedom\n",
       "Multiple R-squared:  0.077,\tAdjusted R-squared:  0.06763 \n",
       "F-statistic: 8.217 on 2 and 197 DF,  p-value: 0.0003736\n"
      ]
     },
     "metadata": {},
     "output_type": "display_data"
    }
   ],
   "source": [
    "summary(model4)\n",
    "summary(model5)"
   ]
  },
  {
   "cell_type": "markdown",
   "metadata": {},
   "source": [
    "Conclusion: By increasing ρ we render multicollinearity in the data, i.e. the regressors become more correlated and the model cannot identify the individual effects and here we can add all the conclusions from 3.5 that t-values become far from 0.05 and standart errors increase.\n",
    "\n",
    "By reducing the number of variables leaving only $X_{1}$ and $X_{2}$, decrese intersept value (b0 parameter), as well as all other parameters. From teoretical perspective, too simple model gives us high bias and too complex model gives us high variance. Thus by reducing the number of variables in our model we decrease the variance and make bias be higher."
   ]
  },
  {
   "cell_type": "markdown",
   "metadata": {},
   "source": [
    "## Problem 4: Linear regression analysis - real data"
   ]
  },
  {
   "cell_type": "markdown",
   "metadata": {},
   "source": [
    "In the light of the hot discussion on the educational system in Ukraine we consider here a data set on student performance at two schools in Portugal. The data set can be downloaded at\n",
    "http://archive.ics.uci.edu/ml/datasets/Student+Performance\n",
    "\n",
    "The zip-file contains some personal information and the grades in Mathematics (student-mat.csv) and Portuguese language (student-por.csv). Pick up the file for Math. The variable of interest is the final grade coded as G3. The remaining variables are used as explanatory variables. Hereafter we exclude G1 and G2 from the discussion and the analysis!\n"
   ]
  },
  {
   "cell_type": "code",
   "execution_count": 1,
   "metadata": {
    "collapsed": false
   },
   "outputs": [],
   "source": [
    "df <- read.csv(\"E:/UCU/statistics/practice/student-mat.csv\", sep = \";\")\n",
    "drops <- c(\"G1\",\"G2\")\n",
    "df <- df[ , !(names(df) %in% drops)]"
   ]
  },
  {
   "cell_type": "code",
   "execution_count": 2,
   "metadata": {
    "collapsed": false
   },
   "outputs": [
    {
     "data": {
      "text/html": [
       "<table>\n",
       "<thead><tr><th scope=col>school</th><th scope=col>sex</th><th scope=col>age</th><th scope=col>address</th><th scope=col>famsize</th><th scope=col>Pstatus</th><th scope=col>Medu</th><th scope=col>Fedu</th><th scope=col>Mjob</th><th scope=col>Fjob</th><th scope=col>...</th><th scope=col>internet</th><th scope=col>romantic</th><th scope=col>famrel</th><th scope=col>freetime</th><th scope=col>goout</th><th scope=col>Dalc</th><th scope=col>Walc</th><th scope=col>health</th><th scope=col>absences</th><th scope=col>G3</th></tr></thead>\n",
       "<tbody>\n",
       "\t<tr><td>GP      </td><td>F       </td><td>18      </td><td>U       </td><td>GT3     </td><td>A       </td><td>4       </td><td>4       </td><td>at_home </td><td>teacher </td><td>...     </td><td>no      </td><td>no      </td><td>4       </td><td>3       </td><td>4       </td><td>1       </td><td>1       </td><td>3       </td><td> 6      </td><td> 6      </td></tr>\n",
       "\t<tr><td>GP      </td><td>F       </td><td>17      </td><td>U       </td><td>GT3     </td><td>T       </td><td>1       </td><td>1       </td><td>at_home </td><td>other   </td><td>...     </td><td>yes     </td><td>no      </td><td>5       </td><td>3       </td><td>3       </td><td>1       </td><td>1       </td><td>3       </td><td> 4      </td><td> 6      </td></tr>\n",
       "\t<tr><td>GP      </td><td>F       </td><td>15      </td><td>U       </td><td>LE3     </td><td>T       </td><td>1       </td><td>1       </td><td>at_home </td><td>other   </td><td>...     </td><td>yes     </td><td>no      </td><td>4       </td><td>3       </td><td>2       </td><td>2       </td><td>3       </td><td>3       </td><td>10      </td><td>10      </td></tr>\n",
       "\t<tr><td>GP      </td><td>F       </td><td>15      </td><td>U       </td><td>GT3     </td><td>T       </td><td>4       </td><td>2       </td><td>health  </td><td>services</td><td>...     </td><td>yes     </td><td>yes     </td><td>3       </td><td>2       </td><td>2       </td><td>1       </td><td>1       </td><td>5       </td><td> 2      </td><td>15      </td></tr>\n",
       "\t<tr><td>GP      </td><td>F       </td><td>16      </td><td>U       </td><td>GT3     </td><td>T       </td><td>3       </td><td>3       </td><td>other   </td><td>other   </td><td>...     </td><td>no      </td><td>no      </td><td>4       </td><td>3       </td><td>2       </td><td>1       </td><td>2       </td><td>5       </td><td> 4      </td><td>10      </td></tr>\n",
       "\t<tr><td>GP      </td><td>M       </td><td>16      </td><td>U       </td><td>LE3     </td><td>T       </td><td>4       </td><td>3       </td><td>services</td><td>other   </td><td>...     </td><td>yes     </td><td>no      </td><td>5       </td><td>4       </td><td>2       </td><td>1       </td><td>2       </td><td>5       </td><td>10      </td><td>15      </td></tr>\n",
       "</tbody>\n",
       "</table>\n"
      ],
      "text/latex": [
       "\\begin{tabular}{r|lllllllllllllllllllllllllllllll}\n",
       " school & sex & age & address & famsize & Pstatus & Medu & Fedu & Mjob & Fjob & ... & internet & romantic & famrel & freetime & goout & Dalc & Walc & health & absences & G3\\\\\n",
       "\\hline\n",
       "\t GP         & F          & 18         & U          & GT3        & A          & 4          & 4          & at\\_home  & teacher    & ...        & no         & no         & 4          & 3          & 4          & 1          & 1          & 3          &  6         &  6        \\\\\n",
       "\t GP         & F          & 17         & U          & GT3        & T          & 1          & 1          & at\\_home  & other      & ...        & yes        & no         & 5          & 3          & 3          & 1          & 1          & 3          &  4         &  6        \\\\\n",
       "\t GP         & F          & 15         & U          & LE3        & T          & 1          & 1          & at\\_home  & other      & ...        & yes        & no         & 4          & 3          & 2          & 2          & 3          & 3          & 10         & 10        \\\\\n",
       "\t GP       & F        & 15       & U        & GT3      & T        & 4        & 2        & health   & services & ...      & yes      & yes      & 3        & 2        & 2        & 1        & 1        & 5        &  2       & 15      \\\\\n",
       "\t GP       & F        & 16       & U        & GT3      & T        & 3        & 3        & other    & other    & ...      & no       & no       & 4        & 3        & 2        & 1        & 2        & 5        &  4       & 10      \\\\\n",
       "\t GP       & M        & 16       & U        & LE3      & T        & 4        & 3        & services & other    & ...      & yes      & no       & 5        & 4        & 2        & 1        & 2        & 5        & 10       & 15      \\\\\n",
       "\\end{tabular}\n"
      ],
      "text/markdown": [
       "\n",
       "school | sex | age | address | famsize | Pstatus | Medu | Fedu | Mjob | Fjob | ... | internet | romantic | famrel | freetime | goout | Dalc | Walc | health | absences | G3 | \n",
       "|---|---|---|---|---|---|\n",
       "| GP       | F        | 18       | U        | GT3      | A        | 4        | 4        | at_home  | teacher  | ...      | no       | no       | 4        | 3        | 4        | 1        | 1        | 3        |  6       |  6       | \n",
       "| GP       | F        | 17       | U        | GT3      | T        | 1        | 1        | at_home  | other    | ...      | yes      | no       | 5        | 3        | 3        | 1        | 1        | 3        |  4       |  6       | \n",
       "| GP       | F        | 15       | U        | LE3      | T        | 1        | 1        | at_home  | other    | ...      | yes      | no       | 4        | 3        | 2        | 2        | 3        | 3        | 10       | 10       | \n",
       "| GP       | F        | 15       | U        | GT3      | T        | 4        | 2        | health   | services | ...      | yes      | yes      | 3        | 2        | 2        | 1        | 1        | 5        |  2       | 15       | \n",
       "| GP       | F        | 16       | U        | GT3      | T        | 3        | 3        | other    | other    | ...      | no       | no       | 4        | 3        | 2        | 1        | 2        | 5        |  4       | 10       | \n",
       "| GP       | M        | 16       | U        | LE3      | T        | 4        | 3        | services | other    | ...      | yes      | no       | 5        | 4        | 2        | 1        | 2        | 5        | 10       | 15       | \n",
       "\n",
       "\n"
      ],
      "text/plain": [
       "  school sex age address famsize Pstatus Medu Fedu Mjob     Fjob     ...\n",
       "1 GP     F   18  U       GT3     A       4    4    at_home  teacher  ...\n",
       "2 GP     F   17  U       GT3     T       1    1    at_home  other    ...\n",
       "3 GP     F   15  U       LE3     T       1    1    at_home  other    ...\n",
       "4 GP     F   15  U       GT3     T       4    2    health   services ...\n",
       "5 GP     F   16  U       GT3     T       3    3    other    other    ...\n",
       "6 GP     M   16  U       LE3     T       4    3    services other    ...\n",
       "  internet romantic famrel freetime goout Dalc Walc health absences G3\n",
       "1 no       no       4      3        4     1    1    3       6        6\n",
       "2 yes      no       5      3        3     1    1    3       4        6\n",
       "3 yes      no       4      3        2     2    3    3      10       10\n",
       "4 yes      yes      3      2        2     1    1    5       2       15\n",
       "5 no       no       4      3        2     1    2    5       4       10\n",
       "6 yes      no       5      4        2     1    2    5      10       15"
      ]
     },
     "metadata": {},
     "output_type": "display_data"
    }
   ],
   "source": [
    "head(df)"
   ]
  },
  {
   "cell_type": "code",
   "execution_count": 372,
   "metadata": {
    "collapsed": false
   },
   "outputs": [
    {
     "data": {
      "text/html": [
       "<ol class=list-inline>\n",
       "\t<li>395</li>\n",
       "\t<li>31</li>\n",
       "</ol>\n"
      ],
      "text/latex": [
       "\\begin{enumerate*}\n",
       "\\item 395\n",
       "\\item 31\n",
       "\\end{enumerate*}\n"
      ],
      "text/markdown": [
       "1. 395\n",
       "2. 31\n",
       "\n",
       "\n"
      ],
      "text/plain": [
       "[1] 395  31"
      ]
     },
     "metadata": {},
     "output_type": "display_data"
    }
   ],
   "source": [
    "dim(df)"
   ]
  },
  {
   "cell_type": "code",
   "execution_count": 321,
   "metadata": {
    "collapsed": false
   },
   "outputs": [
    {
     "data": {
      "text/html": [
       "<ol class=list-inline>\n",
       "\t<li>'school'</li>\n",
       "\t<li>'sex'</li>\n",
       "\t<li>'age'</li>\n",
       "\t<li>'address'</li>\n",
       "\t<li>'famsize'</li>\n",
       "\t<li>'Pstatus'</li>\n",
       "\t<li>'Medu'</li>\n",
       "\t<li>'Fedu'</li>\n",
       "\t<li>'Mjob'</li>\n",
       "\t<li>'Fjob'</li>\n",
       "\t<li>'reason'</li>\n",
       "\t<li>'guardian'</li>\n",
       "\t<li>'traveltime'</li>\n",
       "\t<li>'studytime'</li>\n",
       "\t<li>'failures'</li>\n",
       "\t<li>'schoolsup'</li>\n",
       "\t<li>'famsup'</li>\n",
       "\t<li>'paid'</li>\n",
       "\t<li>'activities'</li>\n",
       "\t<li>'nursery'</li>\n",
       "\t<li>'higher'</li>\n",
       "\t<li>'internet'</li>\n",
       "\t<li>'romantic'</li>\n",
       "\t<li>'famrel'</li>\n",
       "\t<li>'freetime'</li>\n",
       "\t<li>'goout'</li>\n",
       "\t<li>'Dalc'</li>\n",
       "\t<li>'Walc'</li>\n",
       "\t<li>'health'</li>\n",
       "\t<li>'absences'</li>\n",
       "\t<li>'G3'</li>\n",
       "</ol>\n"
      ],
      "text/latex": [
       "\\begin{enumerate*}\n",
       "\\item 'school'\n",
       "\\item 'sex'\n",
       "\\item 'age'\n",
       "\\item 'address'\n",
       "\\item 'famsize'\n",
       "\\item 'Pstatus'\n",
       "\\item 'Medu'\n",
       "\\item 'Fedu'\n",
       "\\item 'Mjob'\n",
       "\\item 'Fjob'\n",
       "\\item 'reason'\n",
       "\\item 'guardian'\n",
       "\\item 'traveltime'\n",
       "\\item 'studytime'\n",
       "\\item 'failures'\n",
       "\\item 'schoolsup'\n",
       "\\item 'famsup'\n",
       "\\item 'paid'\n",
       "\\item 'activities'\n",
       "\\item 'nursery'\n",
       "\\item 'higher'\n",
       "\\item 'internet'\n",
       "\\item 'romantic'\n",
       "\\item 'famrel'\n",
       "\\item 'freetime'\n",
       "\\item 'goout'\n",
       "\\item 'Dalc'\n",
       "\\item 'Walc'\n",
       "\\item 'health'\n",
       "\\item 'absences'\n",
       "\\item 'G3'\n",
       "\\end{enumerate*}\n"
      ],
      "text/markdown": [
       "1. 'school'\n",
       "2. 'sex'\n",
       "3. 'age'\n",
       "4. 'address'\n",
       "5. 'famsize'\n",
       "6. 'Pstatus'\n",
       "7. 'Medu'\n",
       "8. 'Fedu'\n",
       "9. 'Mjob'\n",
       "10. 'Fjob'\n",
       "11. 'reason'\n",
       "12. 'guardian'\n",
       "13. 'traveltime'\n",
       "14. 'studytime'\n",
       "15. 'failures'\n",
       "16. 'schoolsup'\n",
       "17. 'famsup'\n",
       "18. 'paid'\n",
       "19. 'activities'\n",
       "20. 'nursery'\n",
       "21. 'higher'\n",
       "22. 'internet'\n",
       "23. 'romantic'\n",
       "24. 'famrel'\n",
       "25. 'freetime'\n",
       "26. 'goout'\n",
       "27. 'Dalc'\n",
       "28. 'Walc'\n",
       "29. 'health'\n",
       "30. 'absences'\n",
       "31. 'G3'\n",
       "\n",
       "\n"
      ],
      "text/plain": [
       " [1] \"school\"     \"sex\"        \"age\"        \"address\"    \"famsize\"   \n",
       " [6] \"Pstatus\"    \"Medu\"       \"Fedu\"       \"Mjob\"       \"Fjob\"      \n",
       "[11] \"reason\"     \"guardian\"   \"traveltime\" \"studytime\"  \"failures\"  \n",
       "[16] \"schoolsup\"  \"famsup\"     \"paid\"       \"activities\" \"nursery\"   \n",
       "[21] \"higher\"     \"internet\"   \"romantic\"   \"famrel\"     \"freetime\"  \n",
       "[26] \"goout\"      \"Dalc\"       \"Walc\"       \"health\"     \"absences\"  \n",
       "[31] \"G3\"        "
      ]
     },
     "metadata": {},
     "output_type": "display_data"
    }
   ],
   "source": [
    "names(df)"
   ]
  },
  {
   "cell_type": "code",
   "execution_count": 3,
   "metadata": {
    "collapsed": false
   },
   "outputs": [
    {
     "name": "stdout",
     "output_type": "stream",
     "text": [
      "'data.frame':\t395 obs. of  31 variables:\n",
      " $ school    : Factor w/ 2 levels \"GP\",\"MS\": 1 1 1 1 1 1 1 1 1 1 ...\n",
      " $ sex       : Factor w/ 2 levels \"F\",\"M\": 1 1 1 1 1 2 2 1 2 2 ...\n",
      " $ age       : int  18 17 15 15 16 16 16 17 15 15 ...\n",
      " $ address   : Factor w/ 2 levels \"R\",\"U\": 2 2 2 2 2 2 2 2 2 2 ...\n",
      " $ famsize   : Factor w/ 2 levels \"GT3\",\"LE3\": 1 1 2 1 1 2 2 1 2 1 ...\n",
      " $ Pstatus   : Factor w/ 2 levels \"A\",\"T\": 1 2 2 2 2 2 2 1 1 2 ...\n",
      " $ Medu      : int  4 1 1 4 3 4 2 4 3 3 ...\n",
      " $ Fedu      : int  4 1 1 2 3 3 2 4 2 4 ...\n",
      " $ Mjob      : Factor w/ 5 levels \"at_home\",\"health\",..: 1 1 1 2 3 4 3 3 4 3 ...\n",
      " $ Fjob      : Factor w/ 5 levels \"at_home\",\"health\",..: 5 3 3 4 3 3 3 5 3 3 ...\n",
      " $ reason    : Factor w/ 4 levels \"course\",\"home\",..: 1 1 3 2 2 4 2 2 2 2 ...\n",
      " $ guardian  : Factor w/ 3 levels \"father\",\"mother\",..: 2 1 2 2 1 2 2 2 2 2 ...\n",
      " $ traveltime: int  2 1 1 1 1 1 1 2 1 1 ...\n",
      " $ studytime : int  2 2 2 3 2 2 2 2 2 2 ...\n",
      " $ failures  : int  0 0 3 0 0 0 0 0 0 0 ...\n",
      " $ schoolsup : Factor w/ 2 levels \"no\",\"yes\": 2 1 2 1 1 1 1 2 1 1 ...\n",
      " $ famsup    : Factor w/ 2 levels \"no\",\"yes\": 1 2 1 2 2 2 1 2 2 2 ...\n",
      " $ paid      : Factor w/ 2 levels \"no\",\"yes\": 1 1 2 2 2 2 1 1 2 2 ...\n",
      " $ activities: Factor w/ 2 levels \"no\",\"yes\": 1 1 1 2 1 2 1 1 1 2 ...\n",
      " $ nursery   : Factor w/ 2 levels \"no\",\"yes\": 2 1 2 2 2 2 2 2 2 2 ...\n",
      " $ higher    : Factor w/ 2 levels \"no\",\"yes\": 2 2 2 2 2 2 2 2 2 2 ...\n",
      " $ internet  : Factor w/ 2 levels \"no\",\"yes\": 1 2 2 2 1 2 2 1 2 2 ...\n",
      " $ romantic  : Factor w/ 2 levels \"no\",\"yes\": 1 1 1 2 1 1 1 1 1 1 ...\n",
      " $ famrel    : int  4 5 4 3 4 5 4 4 4 5 ...\n",
      " $ freetime  : int  3 3 3 2 3 4 4 1 2 5 ...\n",
      " $ goout     : int  4 3 2 2 2 2 4 4 2 1 ...\n",
      " $ Dalc      : int  1 1 2 1 1 1 1 1 1 1 ...\n",
      " $ Walc      : int  1 1 3 1 2 2 1 1 1 1 ...\n",
      " $ health    : int  3 3 3 5 5 5 3 1 1 5 ...\n",
      " $ absences  : int  6 4 10 2 4 10 0 6 0 0 ...\n",
      " $ G3        : int  6 6 10 15 10 15 11 6 19 15 ...\n"
     ]
    }
   ],
   "source": [
    "str(df)"
   ]
  },
  {
   "cell_type": "markdown",
   "metadata": {},
   "source": [
    "##### 1. Without having a closer look at the data run a simple linear regression of G3 on all other variables (function lm). Look at the list produced by summary and compare the variables used by R with the original data. Explain what happens behind the curtain (discuss, for example, the variable Mjob)."
   ]
  },
  {
   "cell_type": "code",
   "execution_count": 4,
   "metadata": {
    "collapsed": false
   },
   "outputs": [
    {
     "data": {
      "text/plain": [
       "\n",
       "Call:\n",
       "lm(formula = G3 ~ ., data = df)\n",
       "\n",
       "Residuals:\n",
       "     Min       1Q   Median       3Q      Max \n",
       "-13.0442  -1.9028   0.4289   2.7570   8.8874 \n",
       "\n",
       "Coefficients:\n",
       "                 Estimate Std. Error t value Pr(>|t|)    \n",
       "(Intercept)      14.07769    4.48089   3.142  0.00182 ** \n",
       "schoolMS          0.72555    0.79157   0.917  0.35997    \n",
       "sexM              1.26236    0.50003   2.525  0.01202 *  \n",
       "age              -0.37516    0.21721  -1.727  0.08501 .  \n",
       "addressU          0.55135    0.58412   0.944  0.34586    \n",
       "famsizeLE3        0.70281    0.48824   1.439  0.15090    \n",
       "PstatusT         -0.32010    0.72390  -0.442  0.65862    \n",
       "Medu              0.45687    0.32317   1.414  0.15833    \n",
       "Fedu             -0.10458    0.27762  -0.377  0.70663    \n",
       "Mjobhealth        0.99808    1.11819   0.893  0.37268    \n",
       "Mjobother        -0.35900    0.71316  -0.503  0.61500    \n",
       "Mjobservices      0.65832    0.79784   0.825  0.40985    \n",
       "Mjobteacher      -1.24149    1.03821  -1.196  0.23257    \n",
       "Fjobhealth        0.34767    1.43796   0.242  0.80909    \n",
       "Fjobother        -0.61967    1.02304  -0.606  0.54509    \n",
       "Fjobservices     -0.46577    1.05697  -0.441  0.65972    \n",
       "Fjobteacher       1.32619    1.29654   1.023  0.30707    \n",
       "reasonhome        0.07851    0.55380   0.142  0.88735    \n",
       "reasonother       0.77707    0.81757   0.950  0.34252    \n",
       "reasonreputation  0.61304    0.57657   1.063  0.28839    \n",
       "guardianmother    0.06978    0.54560   0.128  0.89830    \n",
       "guardianother     0.75010    0.99946   0.751  0.45345    \n",
       "traveltime       -0.24027    0.33897  -0.709  0.47889    \n",
       "studytime         0.54952    0.28765   1.910  0.05690 .  \n",
       "failures         -1.72398    0.33291  -5.179 3.75e-07 ***\n",
       "schoolsupyes     -1.35058    0.66693  -2.025  0.04361 *  \n",
       "famsupyes        -0.86182    0.47869  -1.800  0.07265 .  \n",
       "paidyes           0.33975    0.47775   0.711  0.47746    \n",
       "activitiesyes    -0.32953    0.44494  -0.741  0.45942    \n",
       "nurseryyes       -0.17730    0.54931  -0.323  0.74706    \n",
       "higheryes         1.37045    1.07780   1.272  0.20437    \n",
       "internetyes       0.49813    0.61956   0.804  0.42192    \n",
       "romanticyes      -1.09449    0.46925  -2.332  0.02024 *  \n",
       "famrel            0.23155    0.24593   0.942  0.34706    \n",
       "freetime          0.30242    0.23735   1.274  0.20345    \n",
       "goout            -0.59367    0.22451  -2.644  0.00855 ** \n",
       "Dalc             -0.27223    0.33087  -0.823  0.41120    \n",
       "Walc              0.26339    0.24801   1.062  0.28896    \n",
       "health           -0.17678    0.16101  -1.098  0.27297    \n",
       "absences          0.05629    0.02897   1.943  0.05277 .  \n",
       "---\n",
       "Signif. codes:  0 '***' 0.001 '**' 0.01 '*' 0.05 '.' 0.1 ' ' 1\n",
       "\n",
       "Residual standard error: 4.108 on 355 degrees of freedom\n",
       "Multiple R-squared:  0.2756,\tAdjusted R-squared:  0.196 \n",
       "F-statistic: 3.463 on 39 and 355 DF,  p-value: 3.317e-10\n"
      ]
     },
     "metadata": {},
     "output_type": "display_data"
    }
   ],
   "source": [
    "model <- lm(G3~.,data=df)\n",
    "summary(model)"
   ]
  },
  {
   "cell_type": "markdown",
   "metadata": {},
   "source": [
    "Conclusion: For each categorical variable R did for us one-hot encoding procedure - created additional dummy variables(equals to the number of distinct values of this variable) and deleted the original one.\n",
    "If we take a look at Mjob in the original dataset, we will find that this column contains the following 5 distinct values: \"teacher\", \"health\", \"services\", \"at_home\" and \"other\". After we had applied lm() function, R droped the original column, but created 4 new ones: Mjobhealth, Mjobother, Mjobservices and Mjobteacher assinging them some values. However if we look closer it did not create dummy variable for each first in ascending order factor names - for instance there is no newly created variable containing \"%at_home\", \"%course\", \"%father\" etc."
   ]
  },
  {
   "cell_type": "markdown",
   "metadata": {},
   "source": [
    "##### 2. Analyse the significance of the explanatory variables. If, for example, Mjobhealth is insignificant, obviously you cannot simply drop it from the model. You have to check the simultaneous insignificance of all dummies which stem from the factor variable MJob (general linear hypothesis). Run such tests for all relevant variables and conclude about the significance of the corresponding variables."
   ]
  },
  {
   "cell_type": "code",
   "execution_count": 120,
   "metadata": {
    "collapsed": false
   },
   "outputs": [
    {
     "data": {
      "text/html": [
       "<table>\n",
       "<tbody>\n",
       "\t<tr><th scope=row>(Intercept)</th><td>0</td><td>0</td><td>0</td><td>0</td></tr>\n",
       "\t<tr><th scope=row>schoolMS</th><td>0</td><td>0</td><td>0</td><td>0</td></tr>\n",
       "\t<tr><th scope=row>sexM</th><td>0</td><td>0</td><td>0</td><td>0</td></tr>\n",
       "\t<tr><th scope=row>age</th><td>0</td><td>0</td><td>0</td><td>0</td></tr>\n",
       "\t<tr><th scope=row>addressU</th><td>0</td><td>0</td><td>0</td><td>0</td></tr>\n",
       "\t<tr><th scope=row>famsizeLE3</th><td>0</td><td>0</td><td>0</td><td>0</td></tr>\n",
       "\t<tr><th scope=row>PstatusT</th><td>0</td><td>0</td><td>0</td><td>0</td></tr>\n",
       "\t<tr><th scope=row>Medu</th><td>0</td><td>0</td><td>0</td><td>0</td></tr>\n",
       "\t<tr><th scope=row>Fedu</th><td>0</td><td>0</td><td>0</td><td>0</td></tr>\n",
       "\t<tr><th scope=row>Mjobhealth</th><td>1</td><td>0</td><td>0</td><td>0</td></tr>\n",
       "\t<tr><th scope=row>Mjobother</th><td>0</td><td>1</td><td>0</td><td>0</td></tr>\n",
       "\t<tr><th scope=row>Mjobservices</th><td>0</td><td>0</td><td>1</td><td>0</td></tr>\n",
       "\t<tr><th scope=row>Mjobteacher</th><td>0</td><td>0</td><td>0</td><td>1</td></tr>\n",
       "\t<tr><th scope=row>Fjobhealth</th><td>0</td><td>0</td><td>0</td><td>0</td></tr>\n",
       "\t<tr><th scope=row>Fjobother</th><td>0</td><td>0</td><td>0</td><td>0</td></tr>\n",
       "\t<tr><th scope=row>Fjobservices</th><td>0</td><td>0</td><td>0</td><td>0</td></tr>\n",
       "\t<tr><th scope=row>Fjobteacher</th><td>0</td><td>0</td><td>0</td><td>0</td></tr>\n",
       "\t<tr><th scope=row>reasonhome</th><td>0</td><td>0</td><td>0</td><td>0</td></tr>\n",
       "\t<tr><th scope=row>reasonother</th><td>0</td><td>0</td><td>0</td><td>0</td></tr>\n",
       "\t<tr><th scope=row>reasonreputation</th><td>0</td><td>0</td><td>0</td><td>0</td></tr>\n",
       "\t<tr><th scope=row>guardianmother</th><td>0</td><td>0</td><td>0</td><td>0</td></tr>\n",
       "\t<tr><th scope=row>guardianother</th><td>0</td><td>0</td><td>0</td><td>0</td></tr>\n",
       "\t<tr><th scope=row>traveltime</th><td>0</td><td>0</td><td>0</td><td>0</td></tr>\n",
       "\t<tr><th scope=row>studytime</th><td>0</td><td>0</td><td>0</td><td>0</td></tr>\n",
       "\t<tr><th scope=row>failures</th><td>0</td><td>0</td><td>0</td><td>0</td></tr>\n",
       "\t<tr><th scope=row>schoolsupyes</th><td>0</td><td>0</td><td>0</td><td>0</td></tr>\n",
       "\t<tr><th scope=row>famsupyes</th><td>0</td><td>0</td><td>0</td><td>0</td></tr>\n",
       "\t<tr><th scope=row>paidyes</th><td>0</td><td>0</td><td>0</td><td>0</td></tr>\n",
       "\t<tr><th scope=row>activitiesyes</th><td>0</td><td>0</td><td>0</td><td>0</td></tr>\n",
       "\t<tr><th scope=row>nurseryyes</th><td>0</td><td>0</td><td>0</td><td>0</td></tr>\n",
       "\t<tr><th scope=row>higheryes</th><td>0</td><td>0</td><td>0</td><td>0</td></tr>\n",
       "\t<tr><th scope=row>internetyes</th><td>0</td><td>0</td><td>0</td><td>0</td></tr>\n",
       "\t<tr><th scope=row>romanticyes</th><td>0</td><td>0</td><td>0</td><td>0</td></tr>\n",
       "\t<tr><th scope=row>famrel</th><td>0</td><td>0</td><td>0</td><td>0</td></tr>\n",
       "\t<tr><th scope=row>freetime</th><td>0</td><td>0</td><td>0</td><td>0</td></tr>\n",
       "\t<tr><th scope=row>goout</th><td>0</td><td>0</td><td>0</td><td>0</td></tr>\n",
       "\t<tr><th scope=row>Dalc</th><td>0</td><td>0</td><td>0</td><td>0</td></tr>\n",
       "\t<tr><th scope=row>Walc</th><td>0</td><td>0</td><td>0</td><td>0</td></tr>\n",
       "\t<tr><th scope=row>health</th><td>0</td><td>0</td><td>0</td><td>0</td></tr>\n",
       "\t<tr><th scope=row>absences</th><td>0</td><td>0</td><td>0</td><td>0</td></tr>\n",
       "</tbody>\n",
       "</table>\n"
      ],
      "text/latex": [
       "\\begin{tabular}{r|llll}\n",
       "\t(Intercept) & 0 & 0 & 0 & 0\\\\\n",
       "\tschoolMS & 0 & 0 & 0 & 0\\\\\n",
       "\tsexM & 0 & 0 & 0 & 0\\\\\n",
       "\tage & 0 & 0 & 0 & 0\\\\\n",
       "\taddressU & 0 & 0 & 0 & 0\\\\\n",
       "\tfamsizeLE3 & 0 & 0 & 0 & 0\\\\\n",
       "\tPstatusT & 0 & 0 & 0 & 0\\\\\n",
       "\tMedu & 0 & 0 & 0 & 0\\\\\n",
       "\tFedu & 0 & 0 & 0 & 0\\\\\n",
       "\tMjobhealth & 1 & 0 & 0 & 0\\\\\n",
       "\tMjobother & 0 & 1 & 0 & 0\\\\\n",
       "\tMjobservices & 0 & 0 & 1 & 0\\\\\n",
       "\tMjobteacher & 0 & 0 & 0 & 1\\\\\n",
       "\tFjobhealth & 0 & 0 & 0 & 0\\\\\n",
       "\tFjobother & 0 & 0 & 0 & 0\\\\\n",
       "\tFjobservices & 0 & 0 & 0 & 0\\\\\n",
       "\tFjobteacher & 0 & 0 & 0 & 0\\\\\n",
       "\treasonhome & 0 & 0 & 0 & 0\\\\\n",
       "\treasonother & 0 & 0 & 0 & 0\\\\\n",
       "\treasonreputation & 0 & 0 & 0 & 0\\\\\n",
       "\tguardianmother & 0 & 0 & 0 & 0\\\\\n",
       "\tguardianother & 0 & 0 & 0 & 0\\\\\n",
       "\ttraveltime & 0 & 0 & 0 & 0\\\\\n",
       "\tstudytime & 0 & 0 & 0 & 0\\\\\n",
       "\tfailures & 0 & 0 & 0 & 0\\\\\n",
       "\tschoolsupyes & 0 & 0 & 0 & 0\\\\\n",
       "\tfamsupyes & 0 & 0 & 0 & 0\\\\\n",
       "\tpaidyes & 0 & 0 & 0 & 0\\\\\n",
       "\tactivitiesyes & 0 & 0 & 0 & 0\\\\\n",
       "\tnurseryyes & 0 & 0 & 0 & 0\\\\\n",
       "\thigheryes & 0 & 0 & 0 & 0\\\\\n",
       "\tinternetyes & 0 & 0 & 0 & 0\\\\\n",
       "\tromanticyes & 0 & 0 & 0 & 0\\\\\n",
       "\tfamrel & 0 & 0 & 0 & 0\\\\\n",
       "\tfreetime & 0 & 0 & 0 & 0\\\\\n",
       "\tgoout & 0 & 0 & 0 & 0\\\\\n",
       "\tDalc & 0 & 0 & 0 & 0\\\\\n",
       "\tWalc & 0 & 0 & 0 & 0\\\\\n",
       "\thealth & 0 & 0 & 0 & 0\\\\\n",
       "\tabsences & 0 & 0 & 0 & 0\\\\\n",
       "\\end{tabular}\n"
      ],
      "text/markdown": [
       "\n",
       "| (Intercept) | 0 | 0 | 0 | 0 | \n",
       "| schoolMS | 0 | 0 | 0 | 0 | \n",
       "| sexM | 0 | 0 | 0 | 0 | \n",
       "| age | 0 | 0 | 0 | 0 | \n",
       "| addressU | 0 | 0 | 0 | 0 | \n",
       "| famsizeLE3 | 0 | 0 | 0 | 0 | \n",
       "| PstatusT | 0 | 0 | 0 | 0 | \n",
       "| Medu | 0 | 0 | 0 | 0 | \n",
       "| Fedu | 0 | 0 | 0 | 0 | \n",
       "| Mjobhealth | 1 | 0 | 0 | 0 | \n",
       "| Mjobother | 0 | 1 | 0 | 0 | \n",
       "| Mjobservices | 0 | 0 | 1 | 0 | \n",
       "| Mjobteacher | 0 | 0 | 0 | 1 | \n",
       "| Fjobhealth | 0 | 0 | 0 | 0 | \n",
       "| Fjobother | 0 | 0 | 0 | 0 | \n",
       "| Fjobservices | 0 | 0 | 0 | 0 | \n",
       "| Fjobteacher | 0 | 0 | 0 | 0 | \n",
       "| reasonhome | 0 | 0 | 0 | 0 | \n",
       "| reasonother | 0 | 0 | 0 | 0 | \n",
       "| reasonreputation | 0 | 0 | 0 | 0 | \n",
       "| guardianmother | 0 | 0 | 0 | 0 | \n",
       "| guardianother | 0 | 0 | 0 | 0 | \n",
       "| traveltime | 0 | 0 | 0 | 0 | \n",
       "| studytime | 0 | 0 | 0 | 0 | \n",
       "| failures | 0 | 0 | 0 | 0 | \n",
       "| schoolsupyes | 0 | 0 | 0 | 0 | \n",
       "| famsupyes | 0 | 0 | 0 | 0 | \n",
       "| paidyes | 0 | 0 | 0 | 0 | \n",
       "| activitiesyes | 0 | 0 | 0 | 0 | \n",
       "| nurseryyes | 0 | 0 | 0 | 0 | \n",
       "| higheryes | 0 | 0 | 0 | 0 | \n",
       "| internetyes | 0 | 0 | 0 | 0 | \n",
       "| romanticyes | 0 | 0 | 0 | 0 | \n",
       "| famrel | 0 | 0 | 0 | 0 | \n",
       "| freetime | 0 | 0 | 0 | 0 | \n",
       "| goout | 0 | 0 | 0 | 0 | \n",
       "| Dalc | 0 | 0 | 0 | 0 | \n",
       "| Walc | 0 | 0 | 0 | 0 | \n",
       "| health | 0 | 0 | 0 | 0 | \n",
       "| absences | 0 | 0 | 0 | 0 | \n",
       "\n",
       "\n"
      ],
      "text/plain": [
       "                 [,1] [,2] [,3] [,4]\n",
       "(Intercept)      0    0    0    0   \n",
       "schoolMS         0    0    0    0   \n",
       "sexM             0    0    0    0   \n",
       "age              0    0    0    0   \n",
       "addressU         0    0    0    0   \n",
       "famsizeLE3       0    0    0    0   \n",
       "PstatusT         0    0    0    0   \n",
       "Medu             0    0    0    0   \n",
       "Fedu             0    0    0    0   \n",
       "Mjobhealth       1    0    0    0   \n",
       "Mjobother        0    1    0    0   \n",
       "Mjobservices     0    0    1    0   \n",
       "Mjobteacher      0    0    0    1   \n",
       "Fjobhealth       0    0    0    0   \n",
       "Fjobother        0    0    0    0   \n",
       "Fjobservices     0    0    0    0   \n",
       "Fjobteacher      0    0    0    0   \n",
       "reasonhome       0    0    0    0   \n",
       "reasonother      0    0    0    0   \n",
       "reasonreputation 0    0    0    0   \n",
       "guardianmother   0    0    0    0   \n",
       "guardianother    0    0    0    0   \n",
       "traveltime       0    0    0    0   \n",
       "studytime        0    0    0    0   \n",
       "failures         0    0    0    0   \n",
       "schoolsupyes     0    0    0    0   \n",
       "famsupyes        0    0    0    0   \n",
       "paidyes          0    0    0    0   \n",
       "activitiesyes    0    0    0    0   \n",
       "nurseryyes       0    0    0    0   \n",
       "higheryes        0    0    0    0   \n",
       "internetyes      0    0    0    0   \n",
       "romanticyes      0    0    0    0   \n",
       "famrel           0    0    0    0   \n",
       "freetime         0    0    0    0   \n",
       "goout            0    0    0    0   \n",
       "Dalc             0    0    0    0   \n",
       "Walc             0    0    0    0   \n",
       "health           0    0    0    0   \n",
       "absences         0    0    0    0   "
      ]
     },
     "metadata": {},
     "output_type": "display_data"
    }
   ],
   "source": [
    "# Let's build a matrix 'cm', where each row specifies a linear combination of the coefficients\n",
    "\n",
    "# Number of columns - length(coefficients(model)) # 40\n",
    "# Number of rows - number of \"Mjob%\" columns in model\n",
    "M = matrix(0,nrow=4,ncol=length(coefficients(model)))\n",
    "\n",
    "# assign the rownames to our columns\n",
    "colnames(M) <-  rownames(summary(model)$coefficients[,])\n",
    "\n",
    "M[,\"Mjobhealth\"] <- c(1,0,0,0)\n",
    "M[,\"Mjobother\"] <- c(0,1,0,0)\n",
    "M[,\"Mjobservices\"] <- c(0,0,1,0)\n",
    "M[,\"Mjobteacher\"] <- c(0,0,0,1)\n",
    "\n",
    "# check how looks our newly created matrix 'cm'\n",
    "t(M)"
   ]
  },
  {
   "cell_type": "code",
   "execution_count": 121,
   "metadata": {
    "collapsed": false
   },
   "outputs": [
    {
     "data": {
      "text/plain": [
       "\n",
       "\t Test of General Linear Hypothesis \t\n",
       "Call:\n",
       "glh.test(reg = model, cm = M, d = rep(0, 4))\n",
       "F = 2.4231, df1 =   4, df2 = 355, p-value = 0.04794 \n"
      ]
     },
     "metadata": {},
     "output_type": "display_data"
    }
   ],
   "source": [
    "# running general linear hypothesis test assuming\n",
    "# H0 hypothesis - all \"Mjob%\" = 0\n",
    "# H1 - one of them is not 0 \n",
    "library(gmodels)\n",
    "glh.test(model, cm = M, d = rep(0,4))"
   ]
  },
  {
   "cell_type": "code",
   "execution_count": 122,
   "metadata": {
    "collapsed": false
   },
   "outputs": [
    {
     "name": "stdout",
     "output_type": "stream",
     "text": [
      "\n",
      "\t Test of General Linear Hypothesis \t\n",
      "Regression:  model \n",
      "\n",
      "Null Hypothesis: C %*% Beta-hat = d \n",
      "\n",
      "C matrix: \n",
      "     (Intercept) schoolMS sexM age addressU famsizeLE3 PstatusT Medu Fedu\n",
      "[1,]           0        0    0   0        0          0        0    0    0\n",
      "[2,]           0        0    0   0        0          0        0    0    0\n",
      "[3,]           0        0    0   0        0          0        0    0    0\n",
      "[4,]           0        0    0   0        0          0        0    0    0\n",
      "     Mjobhealth Mjobother Mjobservices Mjobteacher Fjobhealth Fjobother\n",
      "[1,]          1         0            0           0          0         0\n",
      "[2,]          0         1            0           0          0         0\n",
      "[3,]          0         0            1           0          0         0\n",
      "[4,]          0         0            0           1          0         0\n",
      "     Fjobservices Fjobteacher reasonhome reasonother reasonreputation\n",
      "[1,]            0           0          0           0                0\n",
      "[2,]            0           0          0           0                0\n",
      "[3,]            0           0          0           0                0\n",
      "[4,]            0           0          0           0                0\n",
      "     guardianmother guardianother traveltime studytime failures schoolsupyes\n",
      "[1,]              0             0          0         0        0            0\n",
      "[2,]              0             0          0         0        0            0\n",
      "[3,]              0             0          0         0        0            0\n",
      "[4,]              0             0          0         0        0            0\n",
      "     famsupyes paidyes activitiesyes nurseryyes higheryes internetyes\n",
      "[1,]         0       0             0          0         0           0\n",
      "[2,]         0       0             0          0         0           0\n",
      "[3,]         0       0             0          0         0           0\n",
      "[4,]         0       0             0          0         0           0\n",
      "     romanticyes famrel freetime goout Dalc Walc health absences\n",
      "[1,]           0      0        0     0    0    0      0        0\n",
      "[2,]           0      0        0     0    0    0      0        0\n",
      "[3,]           0      0        0     0    0    0      0        0\n",
      "[4,]           0      0        0     0    0    0      0        0\n",
      "\n",
      "d vector: \n",
      "[1] 0 0 0 0\n",
      "\n",
      "C %*% Beta-hat: \n",
      "[1]  0.9980826 -0.3590023  0.6583217 -1.2414904\n",
      "\n",
      "F = 2.4231, df1 =   4, df2 = 355, p-value = 0.04794 \n",
      "\n"
     ]
    }
   ],
   "source": [
    "summary(glh.test(model, cm = M, d = rep(0,4)))"
   ]
  },
  {
   "cell_type": "markdown",
   "metadata": {
    "collapsed": false
   },
   "source": [
    "Conclusion: Since our p-value = 0.04794 (almost 0.05.. but still < 0.05), we can reject H0 hypothesis, and state that there is at least one \"Mjob%\" dummy variable which has an impact on G3. "
   ]
  },
  {
   "cell_type": "markdown",
   "metadata": {},
   "source": [
    "##### 3. Now look at the variable goout and its possible values. Does a similar discussion applies as in the case of Mjob and why or why not?"
   ]
  },
  {
   "cell_type": "markdown",
   "metadata": {},
   "source": [
    "Conclusion: In the original dataset Mjob is nominal (possible values: \"teacher\", \"health\", \"services\", \"at_home\" and \"other\") and goout is numerical (possible values are integers from 1 to 5). Thus R treats them differently. To be able to apply the similar discussion we need to convert goout to factor."
   ]
  },
  {
   "cell_type": "markdown",
   "metadata": {},
   "source": [
    "##### 4. Provide an economic interpretation for the parameters of absences and goout. What is the economic interpretation of Mjobhealth? Pay attention to the possible values of Mjob (and neglect the possible insignificance)."
   ]
  },
  {
   "cell_type": "code",
   "execution_count": 138,
   "metadata": {
    "collapsed": false
   },
   "outputs": [
    {
     "data": {
      "text/html": [
       "<table>\n",
       "<thead><tr><th></th><th scope=col>Estimate</th><th scope=col>Std. Error</th><th scope=col>t value</th><th scope=col>Pr(&gt;|t|)</th></tr></thead>\n",
       "<tbody>\n",
       "\t<tr><th scope=row>absences</th><td> 0.05629147</td><td>0.02896648 </td><td> 1.9433317 </td><td>0.052766170</td></tr>\n",
       "\t<tr><th scope=row>goout</th><td>-0.59367096</td><td>0.22450666 </td><td>-2.6443357 </td><td>0.008548492</td></tr>\n",
       "\t<tr><th scope=row>Mjobhealth</th><td> 0.99808262</td><td>1.11818583 </td><td> 0.8925910 </td><td>0.372680877</td></tr>\n",
       "\t<tr><th scope=row>Mjobother</th><td>-0.35900225</td><td>0.71316331 </td><td>-0.5033942 </td><td>0.614999372</td></tr>\n",
       "\t<tr><th scope=row>Mjobservices</th><td> 0.65832172</td><td>0.79783889 </td><td> 0.8251311 </td><td>0.409851249</td></tr>\n",
       "\t<tr><th scope=row>Mjobteacher</th><td>-1.24149043</td><td>1.03820870 </td><td>-1.1958004 </td><td>0.232572563</td></tr>\n",
       "</tbody>\n",
       "</table>\n"
      ],
      "text/latex": [
       "\\begin{tabular}{r|llll}\n",
       "  & Estimate & Std. Error & t value & Pr(>\\textbar{}t\\textbar{})\\\\\n",
       "\\hline\n",
       "\tabsences &  0.05629147 & 0.02896648  &  1.9433317  & 0.052766170\\\\\n",
       "\tgoout & -0.59367096 & 0.22450666  & -2.6443357  & 0.008548492\\\\\n",
       "\tMjobhealth &  0.99808262 & 1.11818583  &  0.8925910  & 0.372680877\\\\\n",
       "\tMjobother & -0.35900225 & 0.71316331  & -0.5033942  & 0.614999372\\\\\n",
       "\tMjobservices &  0.65832172 & 0.79783889  &  0.8251311  & 0.409851249\\\\\n",
       "\tMjobteacher & -1.24149043 & 1.03820870  & -1.1958004  & 0.232572563\\\\\n",
       "\\end{tabular}\n"
      ],
      "text/markdown": [
       "\n",
       "| <!--/--> | Estimate | Std. Error | t value | Pr(>|t|) | \n",
       "|---|---|---|---|---|---|\n",
       "| absences |  0.05629147 | 0.02896648  |  1.9433317  | 0.052766170 | \n",
       "| goout | -0.59367096 | 0.22450666  | -2.6443357  | 0.008548492 | \n",
       "| Mjobhealth |  0.99808262 | 1.11818583  |  0.8925910  | 0.372680877 | \n",
       "| Mjobother | -0.35900225 | 0.71316331  | -0.5033942  | 0.614999372 | \n",
       "| Mjobservices |  0.65832172 | 0.79783889  |  0.8251311  | 0.409851249 | \n",
       "| Mjobteacher | -1.24149043 | 1.03820870  | -1.1958004  | 0.232572563 | \n",
       "\n",
       "\n"
      ],
      "text/plain": [
       "             Estimate    Std. Error t value    Pr(>|t|)   \n",
       "absences      0.05629147 0.02896648  1.9433317 0.052766170\n",
       "goout        -0.59367096 0.22450666 -2.6443357 0.008548492\n",
       "Mjobhealth    0.99808262 1.11818583  0.8925910 0.372680877\n",
       "Mjobother    -0.35900225 0.71316331 -0.5033942 0.614999372\n",
       "Mjobservices  0.65832172 0.79783889  0.8251311 0.409851249\n",
       "Mjobteacher  -1.24149043 1.03820870 -1.1958004 0.232572563"
      ]
     },
     "metadata": {},
     "output_type": "display_data"
    }
   ],
   "source": [
    "summary(model)$coefficients[c(\"absences\",\n",
    "                              \"goout\",\n",
    "                              \"Mjobhealth\",\n",
    "                              \"Mjobother\",\n",
    "                              \"Mjobservices\",\n",
    "                              \"Mjobteacher\"),]"
   ]
  },
  {
   "cell_type": "markdown",
   "metadata": {},
   "source": [
    "Conclusion."
   ]
  },
  {
   "cell_type": "markdown",
   "metadata": {},
   "source": [
    "##### 5. Compute the 95% confidence interval for the parameter of absences and provide its economic meaning."
   ]
  },
  {
   "cell_type": "code",
   "execution_count": 124,
   "metadata": {
    "collapsed": false
   },
   "outputs": [
    {
     "data": {
      "text/html": [
       "<dl class=dl-horizontal>\n",
       "\t<dt>2.5 %</dt>\n",
       "\t\t<dd>-0.000675997020865571</dd>\n",
       "\t<dt>97.5 %</dt>\n",
       "\t\t<dd>0.113258939790105</dd>\n",
       "</dl>\n"
      ],
      "text/latex": [
       "\\begin{description*}\n",
       "\\item[2.5 \\textbackslash{}\\%] -0.000675997020865571\n",
       "\\item[97.5 \\textbackslash{}\\%] 0.113258939790105\n",
       "\\end{description*}\n"
      ],
      "text/markdown": [
       "2.5 %\n",
       ":   -0.00067599702086557197.5 %\n",
       ":   0.113258939790105\n",
       "\n"
      ],
      "text/plain": [
       "       2.5 %       97.5 % \n",
       "-0.000675997  0.113258940 "
      ]
     },
     "metadata": {},
     "output_type": "display_data"
    }
   ],
   "source": [
    "myconfint <- confint(model)\n",
    "myconfint[rownames(myconfint)==\"absences\",]"
   ]
  },
  {
   "cell_type": "markdown",
   "metadata": {},
   "source": [
    "Conclusion: 95% of all the students have the value of absence parameter from -0.00068 to 0.11326."
   ]
  },
  {
   "cell_type": "markdown",
   "metadata": {},
   "source": [
    "##### 6. Many of the variable appear insignificant and we should find the smallest model, which still has a good explanatory power. Choose this model using stepwise model selection (stepAIC). Work with this model in all the remaining steps.\n"
   ]
  },
  {
   "cell_type": "code",
   "execution_count": 331,
   "metadata": {
    "collapsed": false
   },
   "outputs": [
    {
     "data": {
      "text/plain": [
       "\n",
       "Call:\n",
       "lm(formula = G3 ~ sex + age + famsize + Medu + Mjob + studytime + \n",
       "    failures + schoolsup + famsup + romantic + freetime + goout + \n",
       "    absences, data = df)\n",
       "\n",
       "Residuals:\n",
       "     Min       1Q   Median       3Q      Max \n",
       "-13.5100  -1.6786   0.3531   2.8716   8.8976 \n",
       "\n",
       "Coefficients:\n",
       "             Estimate Std. Error t value Pr(>|t|)    \n",
       "(Intercept)  13.67213    3.24697   4.211 3.18e-05 ***\n",
       "sexM          0.96171    0.46086   2.087  0.03758 *  \n",
       "age          -0.28634    0.18073  -1.584  0.11395    \n",
       "famsizeLE3    0.72802    0.46407   1.569  0.11754    \n",
       "Medu          0.55202    0.25917   2.130  0.03382 *  \n",
       "Mjobhealth    1.47081    1.01230   1.453  0.14707    \n",
       "Mjobother    -0.18623    0.66215  -0.281  0.77867    \n",
       "Mjobservices  0.97452    0.73506   1.326  0.18572    \n",
       "Mjobteacher  -0.84531    0.96459  -0.876  0.38140    \n",
       "studytime     0.57107    0.26533   2.152  0.03200 *  \n",
       "failures     -1.86045    0.30247  -6.151 1.96e-09 ***\n",
       "schoolsupyes -1.27767    0.65077  -1.963  0.05034 .  \n",
       "famsupyes    -0.82144    0.44547  -1.844  0.06597 .  \n",
       "romanticyes  -1.09244    0.45302  -2.411  0.01636 *  \n",
       "freetime      0.31303    0.22300   1.404  0.16122    \n",
       "goout        -0.54499    0.19661  -2.772  0.00585 ** \n",
       "absences      0.05688    0.02701   2.106  0.03587 *  \n",
       "---\n",
       "Signif. codes:  0 '***' 0.001 '**' 0.01 '*' 0.05 '.' 0.1 ' ' 1\n",
       "\n",
       "Residual standard error: 4.075 on 378 degrees of freedom\n",
       "Multiple R-squared:  0.2408,\tAdjusted R-squared:  0.2087 \n",
       "F-statistic: 7.494 on 16 and 378 DF,  p-value: 2.549e-15\n"
      ]
     },
     "metadata": {},
     "output_type": "display_data"
    }
   ],
   "source": [
    "small_model <- stepAIC(model, trace=F)\n",
    "summary(small_model)"
   ]
  },
  {
   "cell_type": "markdown",
   "metadata": {},
   "source": [
    "##### 7. Sometimes data contains outliers which induces bias in the parameter estimates. Check for outliers using Cook’s distance."
   ]
  },
  {
   "cell_type": "code",
   "execution_count": 381,
   "metadata": {
    "collapsed": false
   },
   "outputs": [],
   "source": [
    "#cooks.distance(small_model)"
   ]
  },
  {
   "cell_type": "code",
   "execution_count": 337,
   "metadata": {
    "collapsed": false
   },
   "outputs": [
    {
     "data": {
      "image/png": "[encoded data removed]",
      "text/plain": [
       "Plot with title \"\""
      ]
     },
     "metadata": {},
     "output_type": "display_data"
    }
   ],
   "source": [
    "plot(small_model, which=4, cook.levels=cutoff)"
   ]
  },
  {
   "cell_type": "markdown",
   "metadata": {},
   "source": [
    "Conclusion: From the graph above we can see that 141, 260 and 277 are outliers."
   ]
  },
  {
   "cell_type": "markdown",
   "metadata": {},
   "source": [
    "##### 8. Frequently data is missing. Imagine that for one student the value of absences is missing completely at random. How would you proceed methodologically to fill in this value? How would you proceed if the value of the binary variable higher is missing? Implementation is not required"
   ]
  },
  {
   "cell_type": "markdown",
   "metadata": {},
   "source": [
    "Absences is a numeric variable containing integers from 1 to 10. Thus we could use either its avarage value or some random but typical.\n",
    "\n",
    "Higher is a binary variable containing values \"yes\" and \"no\". To forecast its missing values we can use some regression model."
   ]
  },
  {
   "cell_type": "markdown",
   "metadata": {},
   "source": [
    "##### 9. Now we look at the model assumptions. The variable goout seems to be very significant. However, if we look at the residuals we observe that the variance of the residuals is very different for different values of goout. For each of the five values this variance equals:"
   ]
  },
  {
   "cell_type": "code",
   "execution_count": 342,
   "metadata": {
    "collapsed": false
   },
   "outputs": [
    {
     "data": {
      "text/html": [
       "<ol class=list-inline>\n",
       "\t<li>23.3642163124171</li>\n",
       "\t<li>14.2500673050393</li>\n",
       "\t<li>13.5158355781751</li>\n",
       "\t<li>14.8228657567316</li>\n",
       "\t<li>18.150920920739</li>\n",
       "</ol>\n"
      ],
      "text/latex": [
       "\\begin{enumerate*}\n",
       "\\item 23.3642163124171\n",
       "\\item 14.2500673050393\n",
       "\\item 13.5158355781751\n",
       "\\item 14.8228657567316\n",
       "\\item 18.150920920739\n",
       "\\end{enumerate*}\n"
      ],
      "text/markdown": [
       "1. 23.3642163124171\n",
       "2. 14.2500673050393\n",
       "3. 13.5158355781751\n",
       "4. 14.8228657567316\n",
       "5. 18.150920920739\n",
       "\n",
       "\n"
      ],
      "text/plain": [
       "[1] 23.36422 14.25007 13.51584 14.82287 18.15092"
      ]
     },
     "metadata": {},
     "output_type": "display_data"
    }
   ],
   "source": [
    "unlist(lapply(c(1:5), function(x) var(model$residuals[df$goout==x])))"
   ]
  },
  {
   "cell_type": "markdown",
   "metadata": {},
   "source": [
    "##### Which of the model assumptions is violated here and how would you proceed to overcome this problem. Implementation is not required."
   ]
  },
  {
   "cell_type": "markdown",
   "metadata": {},
   "source": [
    "Conclusion: Homoscedasticity assumption is violated here, since the variance should be the same for all residuals (as per assumptions of the linear regression).\n",
    "Here we should work probably with heteroskedasticity (if smaller residuals for small values of Xj and larger for large values of Xj), considering the new regression, for instance, GLS."
   ]
  },
  {
   "cell_type": "markdown",
   "metadata": {},
   "source": [
    "##### 10. Write a short summary with the pedagogical and political interpretation of the estimated model.\n"
   ]
  },
  {
   "cell_type": "markdown",
   "metadata": {},
   "source": [
    "Young people should be motivated to attend the school, be always busy and work hard (considering absence, free time, study time, go out, age). But the motivation should be not about good marks but about the posibility to achieve the higher level of life, increase the life quality and getting success. It will decrease the level of absence and failures without any doubts. From the other side absence could be caused by healthcare issues, thus it is a countrywise problem to provide kids with the environment where they could get all necessary nutritions while growing as well as good sport training at least at school."
   ]
  },
  {
   "cell_type": "markdown",
   "metadata": {},
   "source": [
    "##### 11. An important issue is forecasting. Split the data into two parts. For comparability of the results take the first 300 observations as training data and the remaining 78 as test data set. Using the stepwise model selection procedure from above find the optimal model for the training data set. Compute the prediction for the test data set and calculate appropriate loss functions (MSE, MAE). Store them for comparison with other modeling techniques.\n"
   ]
  },
  {
   "cell_type": "code",
   "execution_count": 375,
   "metadata": {
    "collapsed": false
   },
   "outputs": [
    {
     "data": {
      "text/html": [
       "<ol class=list-inline>\n",
       "\t<li>395</li>\n",
       "\t<li>31</li>\n",
       "</ol>\n"
      ],
      "text/latex": [
       "\\begin{enumerate*}\n",
       "\\item 395\n",
       "\\item 31\n",
       "\\end{enumerate*}\n"
      ],
      "text/markdown": [
       "1. 395\n",
       "2. 31\n",
       "\n",
       "\n"
      ],
      "text/plain": [
       "[1] 395  31"
      ]
     },
     "metadata": {},
     "output_type": "display_data"
    }
   ],
   "source": [
    "dim(df)"
   ]
  },
  {
   "cell_type": "markdown",
   "metadata": {},
   "source": [
    "seems like I have more observations in the dataset.."
   ]
  },
  {
   "cell_type": "code",
   "execution_count": 379,
   "metadata": {
    "collapsed": false
   },
   "outputs": [],
   "source": [
    "set.seed(888)\n",
    "k <- sample.int(dim(df)[1],300)\n",
    "train <- df[k,]\n",
    "test  <- df[-k,]\n",
    "model <- lm(G3~.,data=train)\n",
    "best_model <- stepAIC(model, trace=F)"
   ]
  },
  {
   "cell_type": "code",
   "execution_count": 380,
   "metadata": {
    "collapsed": false,
    "scrolled": true
   },
   "outputs": [
    {
     "data": {
      "text/plain": [
       "\n",
       "Call:\n",
       "lm(formula = G3 ~ sex + age + address + Medu + Mjob + studytime + \n",
       "    failures + famsup + romantic + freetime + goout + absences, \n",
       "    data = train)\n",
       "\n",
       "Residuals:\n",
       "     Min       1Q   Median       3Q      Max \n",
       "-13.7011  -1.9520   0.5466   2.8023   8.9803 \n",
       "\n",
       "Coefficients:\n",
       "             Estimate Std. Error t value Pr(>|t|)    \n",
       "(Intercept)  12.56572    3.66823   3.426 0.000704 ***\n",
       "sexM          1.40409    0.53671   2.616 0.009370 ** \n",
       "age          -0.30609    0.20284  -1.509 0.132415    \n",
       "addressU      1.24546    0.60317   2.065 0.039845 *  \n",
       "Medu          0.55674    0.30893   1.802 0.072581 .  \n",
       "Mjobhealth    0.28036    1.20476   0.233 0.816153    \n",
       "Mjobother    -1.11869    0.79958  -1.399 0.162877    \n",
       "Mjobservices  0.27193    0.88939   0.306 0.760016    \n",
       "Mjobteacher  -1.70471    1.13682  -1.500 0.134845    \n",
       "studytime     0.74269    0.31721   2.341 0.019909 *  \n",
       "failures     -2.11689    0.35838  -5.907 9.95e-09 ***\n",
       "famsupyes    -0.88788    0.50790  -1.748 0.081522 .  \n",
       "romanticyes  -0.81466    0.51832  -1.572 0.117130    \n",
       "freetime      0.54835    0.26098   2.101 0.036514 *  \n",
       "goout        -0.64154    0.22659  -2.831 0.004968 ** \n",
       "absences      0.09478    0.03437   2.757 0.006202 ** \n",
       "---\n",
       "Signif. codes:  0 '***' 0.001 '**' 0.01 '*' 0.05 '.' 0.1 ' ' 1\n",
       "\n",
       "Residual standard error: 4.129 on 284 degrees of freedom\n",
       "Multiple R-squared:  0.2753,\tAdjusted R-squared:  0.237 \n",
       "F-statistic: 7.193 on 15 and 284 DF,  p-value: 2.216e-13\n"
      ]
     },
     "metadata": {},
     "output_type": "display_data"
    }
   ],
   "source": [
    "summary(best_model)"
   ]
  },
  {
   "cell_type": "code",
   "execution_count": 383,
   "metadata": {
    "collapsed": false
   },
   "outputs": [],
   "source": [
    "#predict(model,test, interval=\"predict\")"
   ]
  },
  {
   "cell_type": "code",
   "execution_count": null,
   "metadata": {
    "collapsed": true
   },
   "outputs": [],
   "source": [
    "#require(\"metrics\")\n",
    "mae(actual, predicted)\n",
    "mse(actual, predicted)"
   ]
  },
  {
   "cell_type": "code",
   "execution_count": 369,
   "metadata": {
    "collapsed": false
   },
   "outputs": [
    {
     "data": {
      "text/html": [
       "<ol class=list-inline>\n",
       "\t<li>395</li>\n",
       "\t<li>1</li>\n",
       "</ol>\n"
      ],
      "text/latex": [
       "\\begin{enumerate*}\n",
       "\\item 395\n",
       "\\item 1\n",
       "\\end{enumerate*}\n"
      ],
      "text/markdown": [
       "1. 395\n",
       "2. 1\n",
       "\n",
       "\n"
      ],
      "text/plain": [
       "[1] 395   1"
      ]
     },
     "metadata": {},
     "output_type": "display_data"
    }
   ],
   "source": [
    "dim(df[2])"
   ]
  },
  {
   "cell_type": "markdown",
   "metadata": {},
   "source": [
    "## Problem 5: Regression techniques"
   ]
  },
  {
   "cell_type": "markdown",
   "metadata": {},
   "source": [
    "#### 1. In this problem we will apply several alternative modeling techniques to the student performance data from the above problem."
   ]
  },
  {
   "cell_type": "markdown",
   "metadata": {},
   "source": [
    "##### (a) First we model the grade G3 as a function of absences in a nonparametric way. Fit a Nadaraya-Watson regression to the data with Gaussian kernel and “optimal” bandwidth. Make a plot which shows the data and the estimated curve. Compute the variance of the residuals (or $R^2$ if you wish) and compare it to its counterpart from a simple univariate regression.\n"
   ]
  },
  {
   "cell_type": "code",
   "execution_count": null,
   "metadata": {
    "collapsed": true
   },
   "outputs": [],
   "source": []
  },
  {
   "cell_type": "markdown",
   "metadata": {},
   "source": [
    "##### (b) Next we perform model selection via the lasso regression instead of the stepwise procedure based on AIC as above. Run the lasso regression in R and compare the result with the results from the stepwise selection."
   ]
  },
  {
   "cell_type": "code",
   "execution_count": null,
   "metadata": {
    "collapsed": true
   },
   "outputs": [],
   "source": []
  },
  {
   "cell_type": "markdown",
   "metadata": {},
   "source": [
    "##### (c) Now we model the the grade G3 using CART. Estimate a pruned tree for the training data set. Compute the forecasts for the test data test and calculate the loss functions. Compare the results with the results the linear regression. Which variables appear to be most important from the point of view of CART? Is this consistent with the conclusions from the LR?"
   ]
  },
  {
   "cell_type": "code",
   "execution_count": null,
   "metadata": {
    "collapsed": true
   },
   "outputs": [],
   "source": []
  },
  {
   "cell_type": "markdown",
   "metadata": {},
   "source": [
    "##### (d) Pick up either the lasso or CART approach and run several tests for equal predictive ability to compare this method to the LR (sign test, sign rank test, DieboldMariano test). Remember to use test data set for this purpose.\n"
   ]
  },
  {
   "cell_type": "code",
   "execution_count": null,
   "metadata": {
    "collapsed": true
   },
   "outputs": [],
   "source": []
  },
  {
   "cell_type": "markdown",
   "metadata": {},
   "source": [
    "#### 2. A student passes a course if he/she achieves more than 10 points. This implies that we can use the G3 variable to group the students into two categories: \n",
    "$$Y_{i} = \\{\\begin{array}\n",
    "{rrr}\n",
    "1,  if G3i > 10 \\\\\n",
    "0,  if G3i ≤ 10\n",
    "\\end{array}\n",
    "$$\n",
    "\n",
    "#### In the remaining we concentrate on classification techniques and use Y as the dependent variable."
   ]
  },
  {
   "cell_type": "markdown",
   "metadata": {},
   "source": [
    "##### (a) Fit a logistic regression to the data. Use all explanatory variables except for G1, G2 and G3. Run a similar stepwise model selection using AIC as criterion. Below consider only the optimal model chosen here."
   ]
  },
  {
   "cell_type": "code",
   "execution_count": null,
   "metadata": {
    "collapsed": true
   },
   "outputs": [],
   "source": []
  },
  {
   "cell_type": "markdown",
   "metadata": {},
   "source": [
    "##### (b) Consider the explanatory variable goout. Obviously its parameter cannot be intepreted in the same way as for a linear regression. Provide the correct intepretation using odds"
   ]
  },
  {
   "cell_type": "code",
   "execution_count": null,
   "metadata": {
    "collapsed": true
   },
   "outputs": [],
   "source": []
  },
  {
   "cell_type": "markdown",
   "metadata": {},
   "source": [
    "##### (c) Randomly pick up five students. Determine and discuss their probabilities of passing and failing the course. If you want to predict passing/failing the exam for a particular student, what is the simplest way to proceed using these probabilities?\n"
   ]
  },
  {
   "cell_type": "code",
   "execution_count": null,
   "metadata": {
    "collapsed": true
   },
   "outputs": [],
   "source": []
  },
  {
   "cell_type": "markdown",
   "metadata": {},
   "source": [
    "##### (d) Compute the classification table and calculate the specifity and sensitivity. Provide verbal interpretation for the elements of the classification table and the performance measures.\n"
   ]
  },
  {
   "cell_type": "code",
   "execution_count": null,
   "metadata": {
    "collapsed": true
   },
   "outputs": [],
   "source": []
  },
  {
   "cell_type": "markdown",
   "metadata": {},
   "source": [
    "##### (e) To improve the performance it makes sense to change the threshold used for classification. This can be done using the ROC curve. Plot this curve and determine the optimal threshold."
   ]
  },
  {
   "cell_type": "code",
   "execution_count": null,
   "metadata": {
    "collapsed": true
   },
   "outputs": [],
   "source": []
  },
  {
   "cell_type": "markdown",
   "metadata": {},
   "source": [
    "##### (f) Recompute the classification table, sensitivity and specifity for the new threshold. Compare the results with the original values. Is the procedure now more strict/conservative?"
   ]
  },
  {
   "cell_type": "code",
   "execution_count": null,
   "metadata": {
    "collapsed": true
   },
   "outputs": [],
   "source": []
  }
 ],
 "metadata": {
  "kernelspec": {
   "display_name": "R",
   "language": "R",
   "name": "ir"
  },
  "language_info": {
   "codemirror_mode": "r",
   "file_extension": ".r",
   "mimetype": "text/x-r-source",
   "name": "R",
   "pygments_lexer": "r",
   "version": "3.3.2"
  }
 },
 "nbformat": 4,
 "nbformat_minor": 1
}
